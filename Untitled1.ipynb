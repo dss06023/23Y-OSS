{
  "nbformat": 4,
  "nbformat_minor": 0,
  "metadata": {
    "colab": {
      "provenance": [],
      "authorship_tag": "ABX9TyM4t27PjGhcUs7uf600UjOH",
      "include_colab_link": true
    },
    "kernelspec": {
      "name": "python3",
      "display_name": "Python 3"
    },
    "language_info": {
      "name": "python"
    }
  },
  "cells": [
    {
      "cell_type": "markdown",
      "metadata": {
        "id": "view-in-github",
        "colab_type": "text"
      },
      "source": [
        "<a href=\"https://colab.research.google.com/github/dss06023/23Y-OSS/blob/main/Untitled1.ipynb\" target=\"_parent\"><img src=\"https://colab.research.google.com/assets/colab-badge.svg\" alt=\"Open In Colab\"/></a>"
      ]
    },
    {
      "cell_type": "code",
      "execution_count": null,
      "metadata": {
        "id": "ppXcEtzw8q4k"
      },
      "outputs": [],
      "source": [
        "import pandas as pd\n",
        "import numpy as np\n",
        "import matplotlib.pyplot as plt\n",
        "import seaborn as sns"
      ]
    },
    {
      "cell_type": "code",
      "source": [
        "train = pd.read_csv('/content/sample_data/california_housing_test.csv')\n",
        "test =  pd.read_csv('/content/sample_data/california_housing_train.csv')\n",
        "train.head()"
      ],
      "metadata": {
        "id": "jYoAG3n_85wk"
      },
      "execution_count": null,
      "outputs": []
    },
    {
      "cell_type": "code",
      "source": [
        "test.head()"
      ],
      "metadata": {
        "id": "qLoiZSoC9Nig"
      },
      "execution_count": null,
      "outputs": []
    },
    {
      "cell_type": "code",
      "source": [
        "train.describe()"
      ],
      "metadata": {
        "id": "rW2foBBP9PvW"
      },
      "execution_count": null,
      "outputs": []
    },
    {
      "cell_type": "code",
      "source": [
        "train.hist(figsize=(15,13),grid=False , bins=50)\n",
        "plt.show()"
      ],
      "metadata": {
        "id": "uFuJWXHB9SUX"
      },
      "execution_count": null,
      "outputs": []
    },
    {
      "cell_type": "code",
      "source": [
        "correlation = train.corr()"
      ],
      "metadata": {
        "id": "lUvlv68S9SXw"
      },
      "execution_count": null,
      "outputs": []
    },
    {
      "cell_type": "code",
      "source": [
        "plt.figure(figisize=(10,10))\n",
        "sns.heatmap(correlation , annot=True)\n",
        "plt.show()"
      ],
      "metadata": {
        "id": "qMsTP3KC9kO3"
      },
      "execution_count": null,
      "outputs": []
    }
  ]
}